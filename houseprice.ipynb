{
 "cells": [
  {
   "cell_type": "markdown",
   "metadata": {},
   "source": [
    "這個是用房價來預測的模型\n",
    "以下是上課內容程式碼跟簡介"
   ]
  },
  {
   "cell_type": "code",
   "execution_count": null,
   "metadata": {},
   "outputs": [],
   "source": [
    "#import modules帶入模組\n",
    "import pandas as pd\n",
    "import numpy as np \n",
    "import matplotlib.pyplot as plt\n",
    "import seaborn as sns"
   ]
  },
  {
   "cell_type": "markdown",
   "metadata": {},
   "source": [
    "先帶入需要的模組"
   ]
  },
  {
   "cell_type": "code",
   "execution_count": null,
   "metadata": {},
   "outputs": [],
   "source": [
    "#import data\n",
    "df = pd.read_csv(\"https://raw.githubusercontent.com/ryanchung403/dataset/main/Housing_Dataset_Sample.csv\")\n",
    "print(df)"
   ]
  },
  {
   "cell_type": "markdown",
   "metadata": {},
   "source": [
    "讀取需要的數據\n",
    "並顯示數據的樣子"
   ]
  },
  {
   "cell_type": "markdown",
   "metadata": {},
   "source": [
    "      Avg. Area Income  Avg. Area House Age  Avg. Area Number of Rooms  \\\n",
    "0         79545.458574             5.682861                   7.009188   \n",
    "1         79248.642455             6.002900                   6.730821   \n",
    "2         61287.067179             5.865890                   8.512727   \n",
    "3         63345.240046             7.188236                   5.586729   \n",
    "4         59982.197226             5.040555                   7.839388   \n",
    "...                ...                  ...                        ...   \n",
    "4995      60567.944140             7.830362                   6.137356   \n",
    "4996      78491.275435             6.999135                   6.576763   \n",
    "4997      63390.686886             7.250591                   4.805081   \n",
    "4998      68001.331235             5.534388                   7.130144   \n",
    "4999      65510.581804             5.992305                   6.792336   \n",
    "\n",
    "      Avg. Area Number of Bedrooms  Area Population         Price  \\\n",
    "0                             4.09     23086.800503  1.059034e+06   \n",
    "1                             3.09     40173.072174  1.505891e+06   \n",
    "2                             5.13     36882.159400  1.058988e+06   \n",
    "3                             3.26     34310.242831  1.260617e+06   \n",
    "4                             4.23     26354.109472  6.309435e+05   \n",
    "...                            ...              ...           ...   \n",
    "4995                          3.46     22837.361035  1.060194e+06   \n",
    "4996                          4.02     25616.115489  1.482618e+06   \n",
    "4997                          2.13     33266.145490  1.030730e+06   \n",
    "4998                          5.44     42625.620156  1.198657e+06   \n",
    "4999                          4.07     46501.283803  1.298950e+06   \n",
    "\n",
    "                                                Address  \n",
    "0     208 Michael Ferry Apt. 674\\nLaurabury, NE 3701...  \n",
    "1     188 Johnson Views Suite 079\\nLake Kathleen, CA...  \n",
    "2     9127 Elizabeth Stravenue\\nDanieltown, WI 06482...  \n",
    "3                             USS Barnett\\nFPO AP 44820  \n",
    "4                            USNS Raymond\\nFPO AE 09386  \n",
    "...                                                 ...  \n",
    "4995                   USNS Williams\\nFPO AP 30153-7653  \n",
    "4996              PSC 9258, Box 8489\\nAPO AA 42991-3352  \n",
    "4997  4215 Tracy Garden Suite 076\\nJoshualand, VA 01...  \n",
    "4998                          USS Wallace\\nFPO AE 73316  \n",
    "4999  37778 George Ridges Apt. 509\\nEast Holly, NV 2...  \n",
    "\n",
    "[5000 rows x 7 columns]\n"
   ]
  },
  {
   "cell_type": "code",
   "execution_count": null,
   "metadata": {},
   "outputs": [],
   "source": [
    "df.head()"
   ]
  },
  {
   "cell_type": "markdown",
   "metadata": {},
   "source": []
  },
  {
   "cell_type": "code",
   "execution_count": null,
   "metadata": {},
   "outputs": [],
   "source": [
    "df.describe().T"
   ]
  },
  {
   "cell_type": "markdown",
   "metadata": {},
   "source": []
  },
  {
   "cell_type": "code",
   "execution_count": null,
   "metadata": {},
   "outputs": [],
   "source": [
    "sns.displot(df['Price'])"
   ]
  },
  {
   "cell_type": "code",
   "execution_count": null,
   "metadata": {},
   "outputs": [],
   "source": [
    "print(df['Price'])"
   ]
  },
  {
   "cell_type": "code",
   "execution_count": null,
   "metadata": {},
   "outputs": [],
   "source": [
    "sns.jointplot(x=df['Avg. Area Income'],y=df['Price'])"
   ]
  },
  {
   "cell_type": "code",
   "execution_count": null,
   "metadata": {},
   "outputs": [],
   "source": [
    "sns.pairplot(df)"
   ]
  },
  {
   "cell_type": "code",
   "execution_count": null,
   "metadata": {},
   "outputs": [],
   "source": [
    "X = df.iloc[:,:5]\n",
    "y = df['Price']\n",
    "from sklearn.model_selection import train_test_split\n",
    "X_train, X_test, y_train, y_test = train_test_split(X,y,test_size=0.25,random_state=54)\n",
    "#using linear regression model\n",
    "from sklearn.linear_model import LinearRegression\n",
    "reg = LinearRegression()\n",
    "reg.fit(X_train,y_train)\n",
    "\n",
    "#get the result\n",
    "predictions = reg.predict(X_test)\n",
    "print(predictions)\n",
    "\n",
    "from sklearn.metrics import r2_score\n",
    "r2_score(y_test,predictions)\n",
    "plt.scatter(y_test,predictions, color='b',alpha=0.1)"
   ]
  }
 ],
 "metadata": {
  "language_info": {
   "name": "python"
  }
 },
 "nbformat": 4,
 "nbformat_minor": 2
}
